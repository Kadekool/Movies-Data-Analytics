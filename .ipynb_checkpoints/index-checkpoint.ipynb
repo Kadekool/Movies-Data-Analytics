{
 "cells": [
  {
   "cell_type": "code",
   "execution_count": 1,
   "metadata": {},
   "outputs": [],
   "source": [
    "import statistics\n",
    "import numpy as np\n",
    "import pandas as pd\n",
    "import matplotlib.pyplot as plt\n",
    "\n",
    "\n",
    "filePath = \"./MoviesOnStreamingPlatforms_updated.csv\" \n",
    "df = pd.read_csv(filePath)\n",
    "FIGURE_SIZE = (15, 8)"
   ]
  },
  {
   "cell_type": "markdown",
   "metadata": {},
   "source": []
  },
  {
   "cell_type": "code",
   "execution_count": null,
   "metadata": {},
   "outputs": [],
   "source": [
    "Titles = pd.unique(df.Title)\n",
    "df = df[df.RottenTomatoes.notna()]\n",
    "RottenTomatoesScore = [str(df.loc[df.Title == Title,'RottenTomatoes'].values[0])[:-1] for Title in Titles]\n",
    "ids = [i for i in range(len(RottenTomatoesScore))]\n",
    "\n",
    "plt.figure(figsize=FIGURE_SIZE)\n",
    "plt.bar(ids, RottenTomatoesScore, color=\"red\")\n",
    "plt.title(\"Rotten Tomatoes Scores of Dataset\")\n",
    "plt.xlabel(\"Id\")\n",
    "plt.ylabel(\"Rotten Tomatoes Score\")\n",
    "plt.show()"
   ]
  },
  {
   "cell_type": "code",
   "execution_count": null,
   "metadata": {},
   "outputs": [],
   "source": []
  }
 ],
 "metadata": {
  "kernelspec": {
   "display_name": "Python 3",
   "language": "python",
   "name": "python3"
  },
  "language_info": {
   "codemirror_mode": {
    "name": "ipython",
    "version": 3
   },
   "file_extension": ".py",
   "mimetype": "text/x-python",
   "name": "python",
   "nbconvert_exporter": "python",
   "pygments_lexer": "ipython3",
   "version": "3.6.9"
  }
 },
 "nbformat": 4,
 "nbformat_minor": 4
}
